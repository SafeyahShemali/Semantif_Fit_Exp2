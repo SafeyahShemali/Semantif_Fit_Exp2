{
 "cells": [
  {
   "cell_type": "markdown",
   "id": "e64fe54d-9c6b-4585-a834-b547d037caf8",
   "metadata": {},
   "source": [
    "\n",
    "### Checking and analysis"
   ]
  },
  {
   "cell_type": "code",
   "execution_count": 5,
   "id": "2c7dc00a-023d-45c6-ba72-0d3ad04280e7",
   "metadata": {},
   "outputs": [],
   "source": [
    "import data"
   ]
  },
  {
   "cell_type": "markdown",
   "id": "d8443c5b-ec4c-4ba8-a6e4-7994d6973d52",
   "metadata": {},
   "source": [
    "- For ferretti Instrument"
   ]
  },
  {
   "cell_type": "code",
   "execution_count": 2,
   "id": "2f249385-a520-4101-b2f8-d7ff4d688d76",
   "metadata": {},
   "outputs": [],
   "source": [
    "data.result_checking('ferretti_instrument.csv','Result/lemma_tuple_categorical_ferretti_instrument_CodeLlama-13b-Instruct-hf.csv')"
   ]
  },
  {
   "cell_type": "code",
   "execution_count": 3,
   "id": "192a98de-445b-4ca7-b02a-7c5adbf77358",
   "metadata": {},
   "outputs": [],
   "source": [
    "data.result_checking('ferretti_instrument.csv','Result/lemma_tuple_numerical_ferretti_instrument_CodeLlama-13b-Instruct-hf.csv')"
   ]
  },
  {
   "cell_type": "markdown",
   "id": "f157358f-c435-48fc-90e5-a4e469377eeb",
   "metadata": {},
   "source": [
    "- For ferretti Location"
   ]
  },
  {
   "cell_type": "code",
   "execution_count": 4,
   "id": "fc178fc3-3eb5-45a0-a318-a11e65794e14",
   "metadata": {},
   "outputs": [],
   "source": [
    "data.result_checking('ferretti_location.csv','Result/lemma_tuple_categorical_ferretti_location_CodeLlama-13b-Instruct-hf.csv')"
   ]
  },
  {
   "cell_type": "code",
   "execution_count": 5,
   "id": "9aa27167-8898-4e5c-8ff6-5c8ff1923cd8",
   "metadata": {},
   "outputs": [],
   "source": [
    "data.result_checking('ferretti_location.csv','Result/lemma_tuple_numerical_ferretti_location_CodeLlama-13b-Instruct-hf.csv')"
   ]
  },
  {
   "cell_type": "markdown",
   "id": "fd6a12ac-a66a-4951-970a-f3eb863104d0",
   "metadata": {},
   "source": [
    "- For Pado "
   ]
  },
  {
   "cell_type": "code",
   "execution_count": null,
   "id": "ec2ef7fe-f05e-4a93-8cb0-bb4a1359dce6",
   "metadata": {},
   "outputs": [],
   "source": [
    "data.result_checking('pado_plausibility_pb.txt','Result/lemma_tuple_categorical_pado_plausibility_pb_CodeLlama-13b-Instruct-hf.csv')"
   ]
  },
  {
   "cell_type": "code",
   "execution_count": 7,
   "id": "f8b458ed-485d-4357-9968-a2de9c220a18",
   "metadata": {},
   "outputs": [
    {
     "name": "stdout",
     "output_type": "stream",
     "text": [
      "414\n"
     ]
    }
   ],
   "source": [
    "data.result_checking('pado_plausibility_pb.txt','Result/lemma_tuple_numerical_pado_plausibility_pb_CodeLlama-13b-Instruct-hf.csv')"
   ]
  },
  {
   "cell_type": "markdown",
   "id": "bd98dfbe-dd89-424f-871b-c7167e999617",
   "metadata": {},
   "source": [
    "- For Mcrae"
   ]
  },
  {
   "cell_type": "code",
   "execution_count": 2,
   "id": "e4bdbfdf-034f-4076-9dd3-a2cc52b8d9e2",
   "metadata": {},
   "outputs": [],
   "source": [
    "dataset = data.read_data_mcrae('mcrae_agent_patient_more.txt')\n",
    "\n",
    "for i in range(len(dataset)):\n",
    "    \n",
    "    p1 = dataset[i][0]\n",
    "    a1 = dataset[i][1]\n",
    "    t1 = dataset[i][2]\n",
    "    \n",
    "    IsExist = data.record_exist_other('Result/lemma_tuple_categorical_mcrae_agent_patient_more_CodeLlama-13b-Instruct-hf.csv', p1, a1, t1)\n",
    "    if not IsExist:\n",
    "        print(p,predicate,a,argument,t,roleType)\n",
    "        break"
   ]
  },
  {
   "cell_type": "code",
   "execution_count": 7,
   "id": "b5c474ff-72ae-4c2d-a75c-9376180336e4",
   "metadata": {},
   "outputs": [
    {
     "name": "stdout",
     "output_type": "stream",
     "text": [
      "1444\n",
      "1440\n"
     ]
    }
   ],
   "source": [
    "dataset = data.read_data_mcrae('mcrae_agent_patient_more.txt')\n",
    "result = data.read_data('Result/lemma_tuple_categorical_mcrae_agent_patient_more_CodeLlama-13b-Instruct-hf.csv')\n",
    "\n",
    "result.pop(0)\n",
    "\n",
    "print(len(dataset))\n",
    "print(len(result)-1)\n",
    "\n",
    "for i in range(len(dataset)):\n",
    "    p,a,t= dataset[i][0], dataset[i][1], dataset[i][2]\n",
    "    p1,a1,t1= result[i][0], result[i][1], result[i][2]\n",
    "    \n",
    "    if p != p1 and a != a1 and t != t1:\n",
    "        print(p,a,t)\n",
    "        print(p1,a1,t1)"
   ]
  },
  {
   "cell_type": "code",
   "execution_count": null,
   "id": "9e02a160-36bd-42ef-8c0d-0475a126d360",
   "metadata": {},
   "outputs": [],
   "source": [
    "data.result_checking('mcrae_agent_patient_more.txt','Result/lemma_tuple_numerical_mcrae_agent_patient_more_CodeLlama-13b-Instruct-hf.csv')"
   ]
  },
  {
   "cell_type": "code",
   "execution_count": null,
   "id": "4e4b0dad-c093-433a-a2fa-43323fbf2dfc",
   "metadata": {},
   "outputs": [],
   "source": []
  }
 ],
 "metadata": {
  "kernelspec": {
   "display_name": "Python 3",
   "language": "python",
   "name": "python3"
  },
  "language_info": {
   "codemirror_mode": {
    "name": "ipython",
    "version": 3
   },
   "file_extension": ".py",
   "mimetype": "text/x-python",
   "name": "python",
   "nbconvert_exporter": "python",
   "pygments_lexer": "ipython3",
   "version": "3.10.12"
  }
 },
 "nbformat": 4,
 "nbformat_minor": 5
}
