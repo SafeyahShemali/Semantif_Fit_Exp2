{
 "cells": [
  {
   "cell_type": "markdown",
   "metadata": {},
   "source": [
    "## Lamma Tuple Expeirments"
   ]
  },
  {
   "cell_type": "code",
   "execution_count": 1,
   "metadata": {},
   "outputs": [],
   "source": [
    "import data\n",
    "import models\n",
    "import experiments"
   ]
  },
  {
   "cell_type": "code",
   "execution_count": 2,
   "metadata": {},
   "outputs": [],
   "source": [
    "# Create The Model API \n",
    "model_name = \"codellama/CodeLlama-13b-Instruct-hf\"\n",
    "model_key = \"EMPTY\"\n",
    "model_base_url = \"http://0.0.0.0:8000/v1\"\n",
    "model_temp = 0.0\n",
    "model_top_p = 0.95\n",
    "model_max_tokens = 100\n",
    "\n",
    "llama2_model = models.Model(model_name,model_key,model_base_url,model_temp, model_top_p, model_max_tokens)"
   ]
  },
  {
   "cell_type": "markdown",
   "metadata": {},
   "source": [
    "#### Exp 1.1 & 1.2"
   ]
  },
  {
   "cell_type": "code",
   "execution_count": null,
   "metadata": {
    "scrolled": true,
    "tags": []
   },
   "outputs": [],
   "source": [
    "experiments.exp_lemma_tuple_ferretti('ferretti_instrument.csv','Instrument', llama2_model ,model_name)"
   ]
  },
  {
   "cell_type": "markdown",
   "metadata": {},
   "source": [
    "#### Exp 3.1.1 & 3.1.2"
   ]
  },
  {
   "cell_type": "code",
   "execution_count": null,
   "metadata": {
    "tags": []
   },
   "outputs": [],
   "source": [
    "experiments.exp_lemma_tuple_reasoning_ferretti('ferretti_instrument.csv', 'Instrument', llama2_model ,model_name)"
   ]
  }
 ],
 "metadata": {
  "kernelspec": {
   "display_name": "Python 3",
   "language": "python",
   "name": "python3"
  },
  "language_info": {
   "codemirror_mode": {
    "name": "ipython",
    "version": 3
   },
   "file_extension": ".py",
   "mimetype": "text/x-python",
   "name": "python",
   "nbconvert_exporter": "python",
   "pygments_lexer": "ipython3",
   "version": "3.10.12"
  }
 },
 "nbformat": 4,
 "nbformat_minor": 4
}
